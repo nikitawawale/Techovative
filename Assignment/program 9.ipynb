{
 "cells": [
  {
   "cell_type": "markdown",
   "metadata": {},
   "source": [
    "# INTEREST AMOUNT"
   ]
  },
  {
   "cell_type": "code",
   "execution_count": 6,
   "metadata": {},
   "outputs": [
    {
     "name": "stdout",
     "output_type": "stream",
     "text": [
      "Enter Principle2000\n",
      "enter Rate3\n",
      "Enter Time1\n",
      "Interest= 60.0\n",
      "Amount= 2060.0\n"
     ]
    }
   ],
   "source": [
    "#progran 9\n",
    "p = int(input(\"Enter Principle\"))\n",
    "r = int(input(\"enter Rate\"))\n",
    "t = int(input(\"Enter Time\"))\n",
    "si = (p*r*t)/100\n",
    "amount = (p+si)\n",
    "print(\"Interest=\",(si))\n",
    "print(\"Amount=\",(amount))"
   ]
  },
  {
   "cell_type": "code",
   "execution_count": null,
   "metadata": {},
   "outputs": [],
   "source": []
  }
 ],
 "metadata": {
  "kernelspec": {
   "display_name": "Python 3",
   "language": "python",
   "name": "python3"
  },
  "language_info": {
   "codemirror_mode": {
    "name": "ipython",
    "version": 3
   },
   "file_extension": ".py",
   "mimetype": "text/x-python",
   "name": "python",
   "nbconvert_exporter": "python",
   "pygments_lexer": "ipython3",
   "version": "3.8.5"
  }
 },
 "nbformat": 4,
 "nbformat_minor": 4
}
