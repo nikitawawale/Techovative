{
 "cells": [
  {
   "cell_type": "markdown",
   "metadata": {},
   "source": [
    "# Vowel or not"
   ]
  },
  {
   "cell_type": "code",
   "execution_count": 3,
   "metadata": {},
   "outputs": [
    {
     "name": "stdout",
     "output_type": "stream",
     "text": [
      "Enter a Character:E\n",
      "E is a Vowel\n"
     ]
    }
   ],
   "source": [
    "#program 4\n",
    "ch = input(\"Enter a Character:\")\n",
    "if(ch =='A' or ch=='E' or ch=='I' or ch=='O' or ch =='U' or ch =='a' or ch=='e' or ch=='i' or ch=='o' or ch =='u'):\n",
    "    print(ch,\"is a Vowel\")\n",
    "else:\n",
    "    print(ch,\"is Consonant\")\n",
    "          "
   ]
  },
  {
   "cell_type": "code",
   "execution_count": null,
   "metadata": {},
   "outputs": [],
   "source": []
  }
 ],
 "metadata": {
  "kernelspec": {
   "display_name": "Python 3",
   "language": "python",
   "name": "python3"
  },
  "language_info": {
   "codemirror_mode": {
    "name": "ipython",
    "version": 3
   },
   "file_extension": ".py",
   "mimetype": "text/x-python",
   "name": "python",
   "nbconvert_exporter": "python",
   "pygments_lexer": "ipython3",
   "version": "3.8.5"
  }
 },
 "nbformat": 4,
 "nbformat_minor": 4
}
